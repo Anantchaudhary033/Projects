{
 "cells": [
  {
   "cell_type": "markdown",
   "id": "f90d3b6a",
   "metadata": {},
   "source": [
    "# Vowls checker"
   ]
  },
  {
   "cell_type": "code",
   "execution_count": 1,
   "id": "44eeaeda",
   "metadata": {},
   "outputs": [],
   "source": [
    "# write a programm to check the count of vowels in a word"
   ]
  },
  {
   "cell_type": "code",
   "execution_count": 3,
   "id": "b7de9e32",
   "metadata": {},
   "outputs": [
    {
     "name": "stdout",
     "output_type": "stream",
     "text": [
      "enter a word python\n",
      "1\n"
     ]
    }
   ],
   "source": [
    "x=input(\"enter a word \")\n",
    "y=list(x)\n",
    "v= [\"a\",\"e\",\"i\",\"o\",\"u\"]\n",
    "count = 0\n",
    "for i in x:\n",
    "    if i in v:  \n",
    "        count = count + 1\n",
    "        \n",
    "print(count)"
   ]
  },
  {
   "cell_type": "markdown",
   "id": "d073e989",
   "metadata": {},
   "source": [
    "# For linear search algorithm"
   ]
  },
  {
   "cell_type": "code",
   "execution_count": 4,
   "id": "5087051b",
   "metadata": {},
   "outputs": [],
   "source": [
    "# write a programm to check a number exist in array or not"
   ]
  },
  {
   "cell_type": "code",
   "execution_count": 6,
   "id": "2bafef91",
   "metadata": {},
   "outputs": [],
   "source": [
    "import array \n",
    "from array import*"
   ]
  },
  {
   "cell_type": "code",
   "execution_count": 10,
   "id": "965485c5",
   "metadata": {},
   "outputs": [
    {
     "name": "stdout",
     "output_type": "stream",
     "text": [
      "('i', [12, 52, 69, 36, 9, 84])\n"
     ]
    }
   ],
   "source": [
    "a=('i',[12,52,69,36,9,84])\n",
    "print(a)"
   ]
  },
  {
   "cell_type": "code",
   "execution_count": 14,
   "id": "ac354e81",
   "metadata": {},
   "outputs": [
    {
     "name": "stdout",
     "output_type": "stream",
     "text": [
      "inside the array\n"
     ]
    }
   ],
   "source": [
    "def find(arr,x):\n",
    "    for i in range(len(arr)):\n",
    "        if arr[i]==x:\n",
    "            return i\n",
    "    return -1\n",
    "a=array('i',[12,52,69,36,9,84])\n",
    "x=12\n",
    "result = find(a,x)\n",
    "if result!= -1:\n",
    "    print(\"inside the array\")\n",
    "else:\n",
    "    print(\"not in array\")"
   ]
  },
  {
   "cell_type": "code",
   "execution_count": null,
   "id": "d67868dd",
   "metadata": {},
   "outputs": [],
   "source": []
  }
 ],
 "metadata": {
  "kernelspec": {
   "display_name": "Python 3 (ipykernel)",
   "language": "python",
   "name": "python3"
  },
  "language_info": {
   "codemirror_mode": {
    "name": "ipython",
    "version": 3
   },
   "file_extension": ".py",
   "mimetype": "text/x-python",
   "name": "python",
   "nbconvert_exporter": "python",
   "pygments_lexer": "ipython3",
   "version": "3.11.5"
  }
 },
 "nbformat": 4,
 "nbformat_minor": 5
}
