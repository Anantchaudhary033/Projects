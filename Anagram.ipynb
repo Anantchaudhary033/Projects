{
 "cells": [
  {
   "cell_type": "markdown",
   "id": "4583bb10",
   "metadata": {},
   "source": [
    "# Anagram project"
   ]
  },
  {
   "cell_type": "code",
   "execution_count": 1,
   "id": "3ebc90f0",
   "metadata": {},
   "outputs": [],
   "source": [
    "# Write a programm to change the first and last element in a word"
   ]
  },
  {
   "cell_type": "code",
   "execution_count": 3,
   "id": "b9b2b9e0",
   "metadata": {},
   "outputs": [
    {
     "name": "stdout",
     "output_type": "stream",
     "text": [
      "enter a word apple\n",
      "e  p  p  l  a\n"
     ]
    }
   ],
   "source": [
    "x=input(\"enter a word \")\n",
    "y=list(x)\n",
    "def anagram(list,pos1,pos2):\n",
    "    list[pos1],list[pos2]=list[pos2],list[pos1]\n",
    "    return list\n",
    "z=anagram(y,0,-1)\n",
    "str=\"  \"\n",
    "print(str.join(z))"
   ]
  },
  {
   "cell_type": "code",
   "execution_count": 4,
   "id": "f3443fb9",
   "metadata": {},
   "outputs": [],
   "source": [
    "# How to check a word is Anagram or not"
   ]
  },
  {
   "cell_type": "code",
   "execution_count": 5,
   "id": "949c26f5",
   "metadata": {},
   "outputs": [
    {
     "name": "stdout",
     "output_type": "stream",
     "text": [
      "enter a word ape\n",
      "enter a word pea\n",
      "anagram\n"
     ]
    }
   ],
   "source": [
    "x=input(\"enter a word \")\n",
    "y=input(\"enter a word \")\n",
    "a=sorted(x)\n",
    "b=sorted(y)\n",
    "if a==b:\n",
    "    print(\"anagram\")\n",
    "else:\n",
    "    print(\"not anagram\")"
   ]
  },
  {
   "cell_type": "code",
   "execution_count": null,
   "id": "b988fbeb",
   "metadata": {},
   "outputs": [],
   "source": []
  }
 ],
 "metadata": {
  "kernelspec": {
   "display_name": "Python 3 (ipykernel)",
   "language": "python",
   "name": "python3"
  },
  "language_info": {
   "codemirror_mode": {
    "name": "ipython",
    "version": 3
   },
   "file_extension": ".py",
   "mimetype": "text/x-python",
   "name": "python",
   "nbconvert_exporter": "python",
   "pygments_lexer": "ipython3",
   "version": "3.11.5"
  }
 },
 "nbformat": 4,
 "nbformat_minor": 5
}
